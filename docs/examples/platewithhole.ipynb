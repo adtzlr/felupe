{
 "cells": [
  {
   "cell_type": "markdown",
   "id": "f1547952-b585-4a8e-9e12-1db65bab2b1e",
   "metadata": {},
   "source": [
    "# Plate with a Hole\n",
    "\n",
    "```{admonition} Plane stress structural linear analysis.\n",
    "* create and mesh a plate with a hole\n",
    "\n",
    "* define a solid body with a linear-elastic plane stress material\n",
    "\n",
    "* create an external pressure load\n",
    "\n",
    "* export and plot stress results\n",
    "```\n",
    "\n",
    "A plate with length $2L$, height $2h$ and a hole with radius $r$ is subjected to a uniaxial tension $p=-100$ MPa. What is being looked for is the von Mises stress distribution and the concentration of normal stress $\\sigma_{11}$ over the hole.\n",
    "\n",
    "<img src=images/platewithhole.svg alt= “platewithhole” width=\"400px\">\n",
    "\n",
    "Let's create a meshed plate with a hole out of quad cells with the help of `pygmsh` (install with `pip install pygmsh`). Only a quarter model of the plate is considered. A boolean difference between a rectangle and a disk results in a plate with a hole. This plate is meshed with triangles. A so-called *re-combination* of the surface mesh gives a mesh with quad cells."
   ]
  },
  {
   "cell_type": "code",
   "execution_count": null,
   "id": "20f14741-042e-4e8f-bf68-1882154f7313",
   "metadata": {
    "tags": []
   },
   "outputs": [],
   "source": [
    "import felupe as fem\n",
    "import pygmsh\n",
    "\n",
    "h = 1.0\n",
    "L = 2.0\n",
    "r = 0.3\n",
    "\n",
    "with pygmsh.occ.Geometry() as geom:\n",
    "\n",
    "    geom.characteristic_length_min = 0.02\n",
    "    geom.characteristic_length_max = 0.02\n",
    "\n",
    "    rectangle = geom.add_rectangle([0, 0, 0], L, h)\n",
    "    disk = geom.add_disk([0, 0, 0], r)\n",
    "\n",
    "    plate = geom.boolean_difference(rectangle, disk)\n",
    "\n",
    "    geom.set_recombined_surfaces(plate)\n",
    "    mesh = geom.generate_mesh()"
   ]
  },
  {
   "cell_type": "markdown",
   "id": "e3b892cb-3a3f-4e7d-a4ad-6468bac1048a",
   "metadata": {},
   "source": [
    "The points and cells of the above mesh are used to initiate a FElupe mesh."
   ]
  },
  {
   "cell_type": "code",
   "execution_count": null,
   "id": "9f3f96e5-d353-4bf7-a27b-e294aa3d9894",
   "metadata": {
    "tags": []
   },
   "outputs": [],
   "source": [
    "mesh = fem.Mesh(\n",
    "    points=mesh.points[:, :2], \n",
    "    cells=mesh.cells[1].data, \n",
    "    cell_type=mesh.cells[1].type\n",
    ")"
   ]
  },
  {
   "cell_type": "markdown",
   "id": "2284e717-e36e-4c23-be3d-d3cca65bffb4",
   "metadata": {
    "tags": []
   },
   "source": [
    "<img src=images/platewithhole_mesh.png alt=\"mesh-platewithhole\" width=\"400px\">"
   ]
  },
  {
   "cell_type": "markdown",
   "id": "06823369-ff2d-49ee-9beb-cd2900c9611b",
   "metadata": {},
   "source": [
    "A numeric quad-region created on the mesh in combination with a vector-valued displacement field represents the plate. The Boundary conditions for the symmetry planes are generated on the displacement field."
   ]
  },
  {
   "cell_type": "code",
   "execution_count": null,
   "id": "de98daa2-36eb-452e-bf15-15a21a86950a",
   "metadata": {
    "tags": []
   },
   "outputs": [],
   "source": [
    "region = fem.RegionQuad(mesh)\n",
    "displacement = fem.Field(region, dim=2)\n",
    "field = fem.FieldContainer([displacement])\n",
    "\n",
    "boundaries = fem.dof.symmetry(displacement)"
   ]
  },
  {
   "cell_type": "markdown",
   "id": "ed2466c8-afd3-48e6-838d-8f97094302b2",
   "metadata": {},
   "source": [
    "The material behaviour is defined through a built-in isotropic linear-elastic material formulation for plane stress problems. A solid body applies the linear-elastic material formulation on the displacement field."
   ]
  },
  {
   "cell_type": "code",
   "execution_count": null,
   "id": "e64ed141-be34-48dc-9169-0d19128542c0",
   "metadata": {
    "tags": []
   },
   "outputs": [],
   "source": [
    "umat = fem.LinearElasticPlaneStress(E=210000, nu=0.3)\n",
    "solid = fem.SolidBody(umat, field)"
   ]
  },
  {
   "cell_type": "markdown",
   "id": "1c41b3b7-ab21-474a-b295-9f2705bfaa17",
   "metadata": {},
   "source": [
    "The external uniaxial tension is applied by a pressure load on the right end at $x=L$. Therefore, a boundary region in combination with a field has to be created at $x=L$."
   ]
  },
  {
   "cell_type": "code",
   "execution_count": null,
   "id": "80e8a0fe-f83e-4058-93d3-281f25f1ecfc",
   "metadata": {
    "tags": []
   },
   "outputs": [],
   "source": [
    "region_boundary = fem.RegionQuadBoundary(mesh, mask=mesh.points[:, 0] == L)\n",
    "field_boundary = fem.FieldContainer([fem.Field(region_boundary, dim=2)])\n",
    "\n",
    "load = fem.SolidBodyPressure(field_boundary, pressure=-100)"
   ]
  },
  {
   "cell_type": "markdown",
   "id": "97667b8a-da17-4243-b6cb-1674a54da19b",
   "metadata": {},
   "source": [
    "The equivalent stress von Mises, projected to mesh points, will be added to the result file. For the two-dimensional case it is calculated by\n",
    "\n",
    "$$ \\sigma_{vM} = \\sqrt{\\sigma_{11}^2 + \\sigma_{22}^2 + 3 \\ \\sigma_{12}^2 + \\sigma_{11} \\ \\sigma_{22}} ~ .$$"
   ]
  },
  {
   "cell_type": "code",
   "execution_count": null,
   "id": "0ae7d8ee-70f2-4cd3-865b-ddac5e1676b4",
   "metadata": {
    "tags": []
   },
   "outputs": [],
   "source": [
    "import numpy as np\n",
    "    \n",
    "def von_mises(field, **kwargs):\n",
    "    \"Von Mises Stress projected to mesh points.\"\n",
    "\n",
    "    stress = solid.evaluate.gradient(field)[0]\n",
    "\n",
    "    vonmises = np.sqrt(\n",
    "        stress[0, 0] ** 2 + stress[1, 1] ** 2 + 3 * stress[0, 1] ** 2 +\n",
    "        stress[0, 0] * stress[1, 1]\n",
    "    )\n",
    "\n",
    "    return fem.project(vonmises, region)"
   ]
  },
  {
   "cell_type": "markdown",
   "id": "05405c97-664c-4594-b22d-b96e4ff4ea6c",
   "metadata": {},
   "source": [
    "The simulation model is now ready to be solved. The results are saved within a XDMF-file, where additional point-data is passed to the `point_data` argument. "
   ]
  },
  {
   "cell_type": "code",
   "execution_count": null,
   "id": "5415562c-a53a-404f-937c-e40b9cfaff15",
   "metadata": {
    "tags": []
   },
   "outputs": [],
   "source": [
    "step = fem.Step(items=[solid, load], boundaries=boundaries)\n",
    "job = fem.Job(steps=[step])\n",
    "job.evaluate(filename=\"result.xdmf\", point_data={\"von Mises Stress\": von_mises})"
   ]
  },
  {
   "cell_type": "code",
   "execution_count": null,
   "id": "2e73555e-4828-437b-82a0-016fc9cf7462",
   "metadata": {
    "tags": []
   },
   "outputs": [],
   "source": [
    "view = fem.View(field, point_data={\"von Mises Stress\": von_mises(field)})\n",
    "plotter = view.plot(\"von Mises Stress\", show_edges=False)\n",
    "plotter.show(jupyter_backend=\"panel\")"
   ]
  },
  {
   "cell_type": "markdown",
   "id": "08c867fa-65e7-4774-82d4-069e8fa4b703",
   "metadata": {
    "tags": []
   },
   "source": [
    "![](images/platewithhole_stress_continuous_alpha.png)"
   ]
  },
  {
   "cell_type": "markdown",
   "id": "5d2253da-59fa-4e21-9909-89d21d33d4e9",
   "metadata": {},
   "source": [
    "The normal stress distribution over the hole at $x=0$ is plotted with matplotlib."
   ]
  },
  {
   "cell_type": "code",
   "execution_count": null,
   "id": "daf2ac53-5bb8-4b68-a281-032a43bc066c",
   "metadata": {
    "tags": []
   },
   "outputs": [],
   "source": [
    "import matplotlib.pyplot as plt\n",
    "\n",
    "left = mesh.points[:, 0] == 0\n",
    "\n",
    "plt.plot(\n",
    "    fem.tools.project(solid.results.stress[0], region)[:, 0][left],\n",
    "    mesh.points[:, 1][left] / h,\n",
    "    \"o-\"\n",
    ")\n",
    "\n",
    "plt.xlabel(r\"$\\sigma_{11}(x=0, y)$ in MPa $\\longrightarrow$\")\n",
    "plt.ylabel(r\"$y/h$ $\\longrightarrow$\");"
   ]
  }
 ],
 "metadata": {
  "kernelspec": {
   "display_name": "Python 3 (ipykernel)",
   "language": "python",
   "name": "python3"
  },
  "language_info": {
   "codemirror_mode": {
    "name": "ipython",
    "version": 3
   },
   "file_extension": ".py",
   "mimetype": "text/x-python",
   "name": "python",
   "nbconvert_exporter": "python",
   "pygments_lexer": "ipython3",
   "version": "3.10.6"
  }
 },
 "nbformat": 4,
 "nbformat_minor": 5
}
