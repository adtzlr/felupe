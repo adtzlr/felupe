{
 "cells": [
  {
   "cell_type": "markdown",
   "id": "90e61a2c-69d2-4a63-bcc0-cf457b2853cf",
   "metadata": {},
   "source": [
    "# Cantilever beam under gravity\n",
    "\n",
    "```{admonition} Assemble a body force vector due to gravity\n",
    "* define the body force vector\n",
    "\n",
    "* linear-elastic analysis\n",
    "```\n",
    "\n",
    "The displacement due to gravity of a cantilever beam with young's modulus $E=206000$ N/mm$^2$, poisson ratio $\\nu=0.3$, length $L=2000$ mm and cross section area $A=a \\cdot a$ with $a=100$ mm is to be evaluated within a linear-elastic analysis.\n",
    "\n",
    "![beam](images/beam.png)\n",
    "\n",
    "First, let's create a meshed cube out of hexahedron cells with `n=(181, 9, 9)` points per axis. A numeric region created on the mesh represents the cantilever beam. A three-dimensional vector-valued displacement field is initiated on the region."
   ]
  },
  {
   "cell_type": "code",
   "execution_count": null,
   "id": "8b277b08-2769-4082-b18e-e85c141d44a0",
   "metadata": {},
   "outputs": [],
   "source": [
    "import numpy as np\n",
    "import felupe as fem\n",
    "\n",
    "cube = fem.Cube(a=(0, 0, 0), b=(2000, 100, 100), n=(181, 9, 9))\n",
    "region = fem.RegionHexahedron(cube)\n",
    "displacement = fem.Field(region, dim=3)\n",
    "field = fem.FieldContainer([displacement])"
   ]
  },
  {
   "cell_type": "markdown",
   "id": "155ec771-1602-454b-8cc6-309ac1ab895f",
   "metadata": {},
   "source": [
    "A fixed boundary condition is applied on the left end of the beam."
   ]
  },
  {
   "cell_type": "code",
   "execution_count": null,
   "id": "ad769980-3670-46d9-a59c-4249024042f8",
   "metadata": {},
   "outputs": [],
   "source": [
    "boundaries = {\"fixed\": fem.dof.Boundary(displacement, fx=0)}"
   ]
  },
  {
   "cell_type": "markdown",
   "id": "1cac080c-14d7-4a60-9985-bc16f4272110",
   "metadata": {},
   "source": [
    "The material behaviour is defined through a built-in isotropic linear-elastic material formulation. The virtual work of internal forces is given by\n",
    "\n",
    "$$ \\delta W_{int} = -\\int_v \\delta \\boldsymbol{\\varepsilon} : \\mathbb{C} : \\boldsymbol{\\varepsilon} ~ dv$$\n",
    "\n",
    "with the linear elasticity tensor\n",
    "\n",
    "$$ \\mathbb{C} = 2\\mu \\boldsymbol{I} \\odot \\boldsymbol{I} + \\lambda \\boldsymbol{I} \\otimes \\boldsymbol{I}$$\n",
    "\n",
    "and the stress tensor\n",
    "\n",
    "$$ \\boldsymbol{\\sigma} = \\mathbb{C} : \\boldsymbol{\\varepsilon} ~ .$$"
   ]
  },
  {
   "cell_type": "code",
   "execution_count": null,
   "id": "36614298-b6f2-4870-9237-32fc7de30e03",
   "metadata": {},
   "outputs": [],
   "source": [
    "umat = fem.LinearElastic(E=206000, nu=0.3)\n",
    "solid = fem.SolidBody(umat=umat, field=field)"
   ]
  },
  {
   "cell_type": "markdown",
   "id": "808f89c3-aa03-4da4-9755-256cb83893d1",
   "metadata": {},
   "source": [
    "The body force is defined by a (constant) gravity field on a solid body.\n",
    "\n",
    "$$\\delta W_{ext} = \\int_v \\delta \\boldsymbol{u} \\cdot \\rho \\boldsymbol{g} ~ dv$$"
   ]
  },
  {
   "cell_type": "code",
   "execution_count": null,
   "id": "a14003be-8714-4715-a3af-a45c22bcd12b",
   "metadata": {},
   "outputs": [],
   "source": [
    "gravity = fem.SolidBodyGravity(field, gravity=[0, 0, 9810], density=7850 * 1e-12)"
   ]
  },
  {
   "cell_type": "markdown",
   "id": "f4e306ec-d737-4fe2-a106-19473fc0ab08",
   "metadata": {},
   "source": [
    "Inside a Newton-Rhapson procedure, the weak form of linear elasticity is assembled into the stiffness matrix and the applied gravity field is assembled into the body force vector. The maximum displacement of the solution is identical to the one obtained in [[1]](https://www.doi.org/10.5545/sv-jme.2017.5081)."
   ]
  },
  {
   "cell_type": "code",
   "execution_count": null,
   "id": "1d9baf16-df4d-4034-908f-0bd9ce670f0f",
   "metadata": {},
   "outputs": [],
   "source": [
    "step = fem.Step(items=[solid, gravity], boundaries=boundaries)\n",
    "fem.Job(steps=[step]).evaluate()"
   ]
  },
  {
   "cell_type": "markdown",
   "id": "b039f606-f4d4-4c82-9702-2e338bd05a56",
   "metadata": {},
   "source": [
    "A view on the field-container shows the deformed beam due to gravity."
   ]
  },
  {
   "cell_type": "code",
   "execution_count": null,
   "id": "e8fca275-9039-4612-b17a-e941511d65bd",
   "metadata": {},
   "outputs": [],
   "source": [
    "view = fem.View(field)\n",
    "plotter = view.plot(\"Displacement\", component=None, factor=500)\n",
    "plotter.show(jupyter_backend=\"panel\")"
   ]
  },
  {
   "cell_type": "markdown",
   "id": "846d8346",
   "metadata": {},
   "source": [
    "![beam-bodyforce](images/beam_bodyforce.png)"
   ]
  },
  {
   "cell_type": "markdown",
   "id": "23610b50-39df-41cc-8032-8ee8f61aa45f",
   "metadata": {},
   "source": [
    "## References\n",
    "\n",
    "[[1]](https://www.doi.org/10.5545/sv-jme.2017.5081) Glenk C. et al., *Consideration of Body Forces within Finite Element Analysis*, Strojniški vestnik - Journal of Mechanical Engineering, Faculty of Mechanical Engineering, 2018. [![doi](https://zenodo.org/badge/DOI/10.5545/sv-jme.2017.5081.svg)](https://www.doi.org/10.5545/sv-jme.2017.5081)"
   ]
  }
 ],
 "metadata": {
  "kernelspec": {
   "display_name": "Python 3 (ipykernel)",
   "language": "python",
   "name": "python3"
  },
  "language_info": {
   "codemirror_mode": {
    "name": "ipython",
    "version": 3
   },
   "file_extension": ".py",
   "mimetype": "text/x-python",
   "name": "python",
   "nbconvert_exporter": "python",
   "pygments_lexer": "ipython3",
   "version": "3.10.6"
  }
 },
 "nbformat": 4,
 "nbformat_minor": 5
}
