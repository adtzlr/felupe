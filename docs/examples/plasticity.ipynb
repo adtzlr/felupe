{
 "cells": [
  {
   "cell_type": "markdown",
   "id": "90e61a2c-69d2-4a63-bcc0-cf457b2853cf",
   "metadata": {},
   "source": [
    "# Plasticity with Isotropic Hardening\n",
    "\n",
    "[![Binder](https://mybinder.org/badge_logo.svg)](https://mybinder.org/v2/gh/adtzlr/felupe-web/main?urlpath=git-pull%3Frepo%3Dhttps%253A%252F%252Fgithub.com%252Fadtzlr%252Ffelupe%26urlpath%3Dlab%252Ftree%252Ffelupe%252Fdocs%252Fexamples%252Fplasticity.ipynb%26branch%3Dmain)\n",
    "\n",
    "```{admonition} Small-strain Plasticity\n",
    "* linear-elastic plastic material formulation with isotropic hardening\n",
    "\n",
    "* define a body force vector\n",
    "\n",
    "* extract state variables\n",
    "```\n",
    "\n",
    "The normal plastic strain due to a body force applied on a solid with a linear-elastic plastic material formulation with isotropic hardening with young's modulus $E=210000$, poisson ratio $\\nu=0.3$, isotropic hardening modulus $K=1000$, yield stress $\\sigma_y=355$, length $L=3$ and cross section area $A=1$ is to be evaluated.\n",
    "\n",
    "![plasticity](images/plasticity.png)\n",
    "\n",
    "First, let's create a meshed cube out of hexahedron cells with `n=(16, 6, 6)` points per axis. A three-dimensional vector-valued displacement field is initiated on the numeric region."
   ]
  },
  {
   "cell_type": "code",
   "execution_count": null,
   "id": "34e9ec0d-4734-4465-8d3c-d2d7afb0e480",
   "metadata": {},
   "outputs": [],
   "source": [
    "import numpy as np\n",
    "import felupe as fem"
   ]
  },
  {
   "cell_type": "code",
   "execution_count": null,
   "id": "18933fb4-180e-4d55-9df1-8deb4122f83d",
   "metadata": {},
   "outputs": [],
   "source": [
    "mesh = fem.Cube(b=(3, 1, 1), n=(16, 6, 6))\n",
    "region = fem.RegionHexahedron(mesh)\n",
    "displacement = fem.Field(region, dim=3)\n",
    "field = fem.FieldContainer([displacement])"
   ]
  },
  {
   "cell_type": "markdown",
   "id": "155ec771-1602-454b-8cc6-309ac1ab895f",
   "metadata": {},
   "source": [
    "A fixed boundary condition is applied at $x=0$."
   ]
  },
  {
   "cell_type": "code",
   "execution_count": null,
   "id": "ad769980-3670-46d9-a59c-4249024042f8",
   "metadata": {},
   "outputs": [],
   "source": [
    "boundaries = {\"fixed\": fem.dof.Boundary(displacement, fx=0)}"
   ]
  },
  {
   "cell_type": "markdown",
   "id": "1cac080c-14d7-4a60-9985-bc16f4272110",
   "metadata": {},
   "source": [
    "The material behaviour is defined through a built-in isotropic linear-elastic plastic material formulation with isotropic hardening."
   ]
  },
  {
   "cell_type": "code",
   "execution_count": null,
   "id": "36614298-b6f2-4870-9237-32fc7de30e03",
   "metadata": {},
   "outputs": [],
   "source": [
    "umat = fem.LinearElasticPlasticIsotropicHardening(E=2.1e5, nu=0.3, sy=355, K=1e3)\n",
    "solid = fem.SolidBody(umat, field)"
   ]
  },
  {
   "cell_type": "markdown",
   "id": "808f89c3-aa03-4da4-9755-256cb83893d1",
   "metadata": {},
   "source": [
    "The body force is created on the field of the solid body.\n",
    "\n",
    "$$\\delta W_{ext} = \\int_v \\delta \\boldsymbol{u} \\cdot \\boldsymbol{b} ~ dv$$"
   ]
  },
  {
   "cell_type": "code",
   "execution_count": null,
   "id": "a14003be-8714-4715-a3af-a45c22bcd12b",
   "metadata": {},
   "outputs": [],
   "source": [
    "bodyforce = fem.SolidBodyGravity(field)\n",
    "b = fem.math.linsteps([0, 200], num=10, axis=0, axes=3)"
   ]
  },
  {
   "cell_type": "markdown",
   "id": "f4e306ec-d737-4fe2-a106-19473fc0ab08",
   "metadata": {},
   "source": [
    "Inside a Newton-Rhapson procedure, the vectors and matrices are assembled for the given *items* and the boundary conditions are incorporated into the equilibrium equations."
   ]
  },
  {
   "cell_type": "code",
   "execution_count": null,
   "id": "1d9baf16-df4d-4034-908f-0bd9ce670f0f",
   "metadata": {},
   "outputs": [],
   "source": [
    "step = fem.Step(items=[solid, bodyforce], ramp={bodyforce: b}, boundaries=boundaries)\n",
    "job = fem.Job(steps=[step]).evaluate()"
   ]
  },
  {
   "cell_type": "markdown",
   "id": "b039f606-f4d4-4c82-9702-2e338bd05a56",
   "metadata": {},
   "source": [
    "A view on the field-container shows the deformed mesh and the normal plastic strain in direction $x$ due to the applied body force. The vector of all state variables, stored as a result in the solid body object, are splitted into separate variables. The plastic strain is stored as the second state variable. The mean-per-cell value of the plastic strain in direction $x$ is exported to the view."
   ]
  },
  {
   "cell_type": "code",
   "execution_count": null,
   "id": "e8fca275-9039-4612-b17a-e941511d65bd",
   "metadata": {},
   "outputs": [],
   "source": [
    "def screenshot(solid, field, filename):\n",
    "    \"Visualize the final Normal Plastic Strain in direction X.\"\n",
    "\n",
    "    plastic_strain = np.split(solid.results.statevars, umat.statevars_offsets)[1]\n",
    "    view = fem.View(field, cell_data={\"Plastic Strain\": plastic_strain.mean(-2).T})\n",
    "    plotter = view.plot(\n",
    "        \"Plastic Strain\", component=0, off_screen=True, theme=\"paraview\", show_undeformed=False\n",
    "    )\n",
    "    plotter.screenshot(filename, window_size=(800, 600))"
   ]
  },
  {
   "cell_type": "code",
   "execution_count": null,
   "id": "b0755f63-9830-4631-a664-60c7b13fabaa",
   "metadata": {},
   "outputs": [],
   "source": [
    "screenshot(solid, field, filename=\"images/bodyforce-load.png\")"
   ]
  },
  {
   "cell_type": "markdown",
   "id": "846d8346",
   "metadata": {},
   "source": [
    "![bodyforce-load](images/bodyforce-load.png)"
   ]
  }
 ],
 "metadata": {
  "kernelspec": {
   "display_name": "Python 3 (ipykernel)",
   "language": "python",
   "name": "python3"
  },
  "language_info": {
   "codemirror_mode": {
    "name": "ipython",
    "version": 3
   },
   "file_extension": ".py",
   "mimetype": "text/x-python",
   "name": "python",
   "nbconvert_exporter": "python",
   "pygments_lexer": "ipython3",
   "version": "3.10.12"
  }
 },
 "nbformat": 4,
 "nbformat_minor": 5
}
