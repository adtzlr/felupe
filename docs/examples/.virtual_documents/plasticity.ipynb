import numpy as np
import felupe as fem


mesh = fem.Cube(b=(3, 1, 1), n=(16, 6, 6))
region = fem.RegionHexahedron(mesh)
displacement = fem.Field(region, dim=3)
field = fem.FieldContainer([displacement])


boundaries = {"fixed": fem.dof.Boundary(displacement, fx=0)}


umat = fem.LinearElasticPlasticIsotropicHardening(E=1, nu=0.3, sy=1, K=0.3)
solid = fem.SolidBody(umat, field)


bodyforce = fem.SolidBodyGravity(field)
b = fem.math.linsteps([0, 0.5], num=10, axis=0, axes=3)


step = fem.Step(items=[solid, bodyforce], ramp={bodyforce: b}, boundaries=boundaries)

job = fem.Job(steps=[step])
job.evaluate()


def screenshot(solid, field, filename):
    "Visualize the final Normal Plastic Strain in direction X."

    plastic_strain = np.split(solid.results.statevars, umat.statevars_offsets)[1]
    view = fem.View(field, cell_data={"Plastic Strain": plastic_strain.mean(-2).T})
    plotter = view.plot("Plastic Strain", component=0, off_screen=True)
    plotter.show(screenshot=filename, window_size=(800, 600), jupyter_backend="panel")


screenshot(solid, field, filename="images/bodyforce-load.png")


step = fem.Step(
    items=[solid, bodyforce], ramp={bodyforce: b[::-1]}, boundaries=boundaries
)

job = fem.Job(steps=[step])
job.evaluate()


screenshot(solid, field, filename="images/bodyforce-unload.png")
